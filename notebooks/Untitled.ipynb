{
 "cells": [
  {
   "cell_type": "code",
   "execution_count": 1,
   "id": "6a852af2",
   "metadata": {},
   "outputs": [],
   "source": [
    "from blog.models import Post\n"
   ]
  },
  {
   "cell_type": "code",
   "execution_count": 3,
   "id": "5e6edc88",
   "metadata": {},
   "outputs": [
    {
     "data": {
      "text/plain": [
       "<QuerySet [<Post: asdfgas>, <Post: Dadsgaasdg>, <Post: Dadsgaasdg>, <Post: Salomlar>]>"
      ]
     },
     "execution_count": 3,
     "metadata": {},
     "output_type": "execute_result"
    }
   ],
   "source": [
    "Post.objects.all()"
   ]
  },
  {
   "cell_type": "code",
   "execution_count": null,
   "id": "84e14de2",
   "metadata": {},
   "outputs": [],
   "source": []
  }
 ],
 "metadata": {
  "kernelspec": {
   "display_name": "Django Shell-Plus",
   "language": "python",
   "name": "django_extensions"
  },
  "language_info": {
   "codemirror_mode": {
    "name": "ipython",
    "version": 3
   },
   "file_extension": ".py",
   "mimetype": "text/x-python",
   "name": "python",
   "nbconvert_exporter": "python",
   "pygments_lexer": "ipython3",
   "version": "3.11.2"
  }
 },
 "nbformat": 4,
 "nbformat_minor": 5
}
